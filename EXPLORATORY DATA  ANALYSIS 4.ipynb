{
 "cells": [
  {
   "cell_type": "code",
   "execution_count": 1,
   "id": "89e7b806",
   "metadata": {},
   "outputs": [],
   "source": [
    "# Importing necessary libraries\n",
    "import numpy as np\n",
    "import pandas as pd\n",
    "import matplotlib.pyplot as plt\n",
    "import warnings\n",
    "warnings.filterwarnings('ignore')"
   ]
  },
  {
   "cell_type": "code",
   "execution_count": 2,
   "id": "f88cb973",
   "metadata": {},
   "outputs": [
    {
     "data": {
      "text/html": [
       "<div>\n",
       "<style scoped>\n",
       "    .dataframe tbody tr th:only-of-type {\n",
       "        vertical-align: middle;\n",
       "    }\n",
       "\n",
       "    .dataframe tbody tr th {\n",
       "        vertical-align: top;\n",
       "    }\n",
       "\n",
       "    .dataframe thead th {\n",
       "        text-align: right;\n",
       "    }\n",
       "</style>\n",
       "<table border=\"1\" class=\"dataframe\">\n",
       "  <thead>\n",
       "    <tr style=\"text-align: right;\">\n",
       "      <th></th>\n",
       "      <th>Country</th>\n",
       "      <th>Other names</th>\n",
       "      <th>ISO 3166-1 alpha-3 CODE</th>\n",
       "      <th>Population</th>\n",
       "      <th>Continent</th>\n",
       "      <th>Total Cases</th>\n",
       "      <th>Total Deaths</th>\n",
       "      <th>TotÂ Cases//1M pop</th>\n",
       "      <th>TotÂ Deaths/1M pop</th>\n",
       "      <th>Death percentage</th>\n",
       "    </tr>\n",
       "  </thead>\n",
       "  <tbody>\n",
       "    <tr>\n",
       "      <th>0</th>\n",
       "      <td>Afghanistan</td>\n",
       "      <td>Afghanistan</td>\n",
       "      <td>AFG</td>\n",
       "      <td>40462186</td>\n",
       "      <td>Asia</td>\n",
       "      <td>177827</td>\n",
       "      <td>7671</td>\n",
       "      <td>4395</td>\n",
       "      <td>190</td>\n",
       "      <td>4.313743</td>\n",
       "    </tr>\n",
       "    <tr>\n",
       "      <th>1</th>\n",
       "      <td>Albania</td>\n",
       "      <td>Albania</td>\n",
       "      <td>ALB</td>\n",
       "      <td>2872296</td>\n",
       "      <td>Europe</td>\n",
       "      <td>273870</td>\n",
       "      <td>3492</td>\n",
       "      <td>95349</td>\n",
       "      <td>1216</td>\n",
       "      <td>1.275058</td>\n",
       "    </tr>\n",
       "    <tr>\n",
       "      <th>2</th>\n",
       "      <td>Algeria</td>\n",
       "      <td>Algeria</td>\n",
       "      <td>DZA</td>\n",
       "      <td>45236699</td>\n",
       "      <td>Africa</td>\n",
       "      <td>265691</td>\n",
       "      <td>6874</td>\n",
       "      <td>5873</td>\n",
       "      <td>152</td>\n",
       "      <td>2.587216</td>\n",
       "    </tr>\n",
       "    <tr>\n",
       "      <th>3</th>\n",
       "      <td>Andorra</td>\n",
       "      <td>Andorra</td>\n",
       "      <td>AND</td>\n",
       "      <td>77481</td>\n",
       "      <td>Europe</td>\n",
       "      <td>40024</td>\n",
       "      <td>153</td>\n",
       "      <td>516565</td>\n",
       "      <td>1975</td>\n",
       "      <td>0.382271</td>\n",
       "    </tr>\n",
       "    <tr>\n",
       "      <th>4</th>\n",
       "      <td>Angola</td>\n",
       "      <td>Angola</td>\n",
       "      <td>AGO</td>\n",
       "      <td>34654212</td>\n",
       "      <td>Africa</td>\n",
       "      <td>99194</td>\n",
       "      <td>1900</td>\n",
       "      <td>2862</td>\n",
       "      <td>55</td>\n",
       "      <td>1.915438</td>\n",
       "    </tr>\n",
       "    <tr>\n",
       "      <th>...</th>\n",
       "      <td>...</td>\n",
       "      <td>...</td>\n",
       "      <td>...</td>\n",
       "      <td>...</td>\n",
       "      <td>...</td>\n",
       "      <td>...</td>\n",
       "      <td>...</td>\n",
       "      <td>...</td>\n",
       "      <td>...</td>\n",
       "      <td>...</td>\n",
       "    </tr>\n",
       "    <tr>\n",
       "      <th>220</th>\n",
       "      <td>Wallis and Futuna</td>\n",
       "      <td>Wallis and Futuna Islands</td>\n",
       "      <td>WLF</td>\n",
       "      <td>10894</td>\n",
       "      <td>Oceania</td>\n",
       "      <td>454</td>\n",
       "      <td>7</td>\n",
       "      <td>41674</td>\n",
       "      <td>643</td>\n",
       "      <td>1.541850</td>\n",
       "    </tr>\n",
       "    <tr>\n",
       "      <th>221</th>\n",
       "      <td>Western Sahara</td>\n",
       "      <td>Western Sahara</td>\n",
       "      <td>ESHÃ‚Â</td>\n",
       "      <td>623031</td>\n",
       "      <td>Africa</td>\n",
       "      <td>10</td>\n",
       "      <td>1</td>\n",
       "      <td>16</td>\n",
       "      <td>2</td>\n",
       "      <td>10.000000</td>\n",
       "    </tr>\n",
       "    <tr>\n",
       "      <th>222</th>\n",
       "      <td>Yemen</td>\n",
       "      <td>Yemen</td>\n",
       "      <td>YEM</td>\n",
       "      <td>30975258</td>\n",
       "      <td>Asia</td>\n",
       "      <td>11806</td>\n",
       "      <td>2143</td>\n",
       "      <td>381</td>\n",
       "      <td>69</td>\n",
       "      <td>18.151787</td>\n",
       "    </tr>\n",
       "    <tr>\n",
       "      <th>223</th>\n",
       "      <td>Zambia</td>\n",
       "      <td>Zambia</td>\n",
       "      <td>ZMB</td>\n",
       "      <td>19284482</td>\n",
       "      <td>Africa</td>\n",
       "      <td>317076</td>\n",
       "      <td>3967</td>\n",
       "      <td>16442</td>\n",
       "      <td>206</td>\n",
       "      <td>1.251120</td>\n",
       "    </tr>\n",
       "    <tr>\n",
       "      <th>224</th>\n",
       "      <td>Zimbabwe</td>\n",
       "      <td>Zimbabwe</td>\n",
       "      <td>ZWE</td>\n",
       "      <td>15241601</td>\n",
       "      <td>Africa</td>\n",
       "      <td>246525</td>\n",
       "      <td>5446</td>\n",
       "      <td>16174</td>\n",
       "      <td>357</td>\n",
       "      <td>2.209107</td>\n",
       "    </tr>\n",
       "  </tbody>\n",
       "</table>\n",
       "<p>225 rows × 10 columns</p>\n",
       "</div>"
      ],
      "text/plain": [
       "               Country                Other names ISO 3166-1 alpha-3 CODE  \\\n",
       "0          Afghanistan                Afghanistan                     AFG   \n",
       "1              Albania                    Albania                     ALB   \n",
       "2              Algeria                    Algeria                     DZA   \n",
       "3              Andorra                    Andorra                     AND   \n",
       "4               Angola                     Angola                     AGO   \n",
       "..                 ...                        ...                     ...   \n",
       "220  Wallis and Futuna  Wallis and Futuna Islands                     WLF   \n",
       "221     Western Sahara             Western Sahara                 ESHÃ‚Â    \n",
       "222              Yemen                      Yemen                     YEM   \n",
       "223             Zambia                     Zambia                     ZMB   \n",
       "224           Zimbabwe                   Zimbabwe                     ZWE   \n",
       "\n",
       "     Population Continent  Total Cases  Total Deaths  TotÂ Cases//1M pop  \\\n",
       "0      40462186      Asia       177827          7671                4395   \n",
       "1       2872296    Europe       273870          3492               95349   \n",
       "2      45236699    Africa       265691          6874                5873   \n",
       "3         77481    Europe        40024           153              516565   \n",
       "4      34654212    Africa        99194          1900                2862   \n",
       "..          ...       ...          ...           ...                 ...   \n",
       "220       10894   Oceania          454             7               41674   \n",
       "221      623031    Africa           10             1                  16   \n",
       "222    30975258      Asia        11806          2143                 381   \n",
       "223    19284482    Africa       317076          3967               16442   \n",
       "224    15241601    Africa       246525          5446               16174   \n",
       "\n",
       "     TotÂ Deaths/1M pop  Death percentage  \n",
       "0                   190          4.313743  \n",
       "1                  1216          1.275058  \n",
       "2                   152          2.587216  \n",
       "3                  1975          0.382271  \n",
       "4                    55          1.915438  \n",
       "..                  ...               ...  \n",
       "220                 643          1.541850  \n",
       "221                   2         10.000000  \n",
       "222                  69         18.151787  \n",
       "223                 206          1.251120  \n",
       "224                 357          2.209107  \n",
       "\n",
       "[225 rows x 10 columns]"
      ]
     },
     "execution_count": 2,
     "metadata": {},
     "output_type": "execute_result"
    }
   ],
   "source": [
    "#importing the dataset\n",
    "df = pd.read_excel(\"Covid'19.xlsx\")\n",
    "df"
   ]
  },
  {
   "cell_type": "code",
   "execution_count": 3,
   "id": "f244d4ea",
   "metadata": {},
   "outputs": [
    {
     "data": {
      "text/plain": [
       "Country                    0\n",
       "Other names                1\n",
       "ISO 3166-1 alpha-3 CODE    0\n",
       "Population                 0\n",
       "Continent                  0\n",
       "Total Cases                0\n",
       "Total Deaths               0\n",
       "TotÂ Cases//1M pop         0\n",
       "TotÂ Deaths/1M pop         0\n",
       "Death percentage           0\n",
       "dtype: int64"
      ]
     },
     "execution_count": 3,
     "metadata": {},
     "output_type": "execute_result"
    }
   ],
   "source": [
    "#checking the null values\n",
    "df.isnull().sum()"
   ]
  },
  {
   "cell_type": "markdown",
   "id": "c2b42916",
   "metadata": {},
   "source": [
    "# QUESTION 1: What is the total number of COVID-19 cases and deaths globally?"
   ]
  },
  {
   "cell_type": "code",
   "execution_count": 4,
   "id": "5d319973",
   "metadata": {},
   "outputs": [
    {
     "name": "stdout",
     "output_type": "stream",
     "text": [
      "The total number of cases is 491575827\n",
      "The total number of death is 6175829\n"
     ]
    }
   ],
   "source": [
    "# using sum function\n",
    "print(\"The total number of cases is\", df['Total Cases'].sum())\n",
    "print(\"The total number of death is\", df['Total Deaths'].sum())"
   ]
  },
  {
   "cell_type": "markdown",
   "id": "9a23a697",
   "metadata": {},
   "source": [
    "Discussion: Considering the total case and total death, we can see a massive significant difference in the total number of cases and the total number of the deaseased incur. we can see that the total number of death was minimum and not up to 50% of the total cases"
   ]
  },
  {
   "cell_type": "markdown",
   "id": "098eeb5c",
   "metadata": {},
   "source": [
    "# QUESTION 2: Which countries had the highest number of total cases and deaths?"
   ]
  },
  {
   "cell_type": "code",
   "execution_count": 5,
   "id": "5be77554",
   "metadata": {},
   "outputs": [
    {
     "data": {
      "image/png": "[encoded data removed]",
      "text/plain": [
       "<Figure size 864x576 with 1 Axes>"
      ]
     },
     "metadata": {
      "needs_background": "light"
     },
     "output_type": "display_data"
    },
    {
     "data": {
      "image/png": "[encoded data removed]",
      "text/plain": [
       "<Figure size 864x576 with 1 Axes>"
      ]
     },
     "metadata": {
      "needs_background": "light"
     },
     "output_type": "display_data"
    }
   ],
   "source": [
    "#plotting Total Death against Country\n",
    "plt.figure(figsize=(12,8))\n",
    "top_5 = df.sort_values(by='Total Deaths', ascending=False).head(5)\n",
    "plt.bar(top_5['Country'],top_5['Total Deaths'], color= 'green')\n",
    "plt.ylabel('Total Number of Death')\n",
    "plt.xlabel('Country')\n",
    "plt.show()\n",
    "\n",
    "#Plotting Total Cases By Country\n",
    "plt.figure(figsize=(12,8))\n",
    "total_cases = df.sort_values(by='Total Cases', ascending=False).head(5)\n",
    "plt.bar(total_cases['Country'],total_cases['Total Deaths'], color= 'brown')\n",
    "plt.ylabel('Total Number of Cases',)\n",
    "plt.xlabel('Country')\n",
    "plt.show()\n"
   ]
  },
  {
   "cell_type": "markdown",
   "id": "133b9c3f",
   "metadata": {},
   "source": [
    "Discussion: looking at the figues above, we can see that United States of America has the highest toatal cases of covid and as well the highest total number of death due to this pandemic."
   ]
  },
  {
   "cell_type": "markdown",
   "id": "7be72067",
   "metadata": {},
   "source": [
    "# QUESTION 3: Which continent had the highest and lowest death percentage?"
   ]
  },
  {
   "cell_type": "code",
   "execution_count": 6,
   "id": "0244dd65",
   "metadata": {},
   "outputs": [
    {
     "data": {
      "image/png": "[encoded data removed]",
      "text/plain": [
       "<Figure size 864x432 with 1 Axes>"
      ]
     },
     "metadata": {
      "needs_background": "light"
     },
     "output_type": "display_data"
    }
   ],
   "source": [
    "#Plotting  continent by the death percentage \n",
    "plt.figure(figsize=(12,6))\n",
    "df.groupby('Continent')['Death percentage'].sum()\n",
    "plt.bar(df.groupby('Continent')['Death percentage'].sum().index,df.groupby('Continent')['Death percentage'].sum())\n",
    "plt.xticks(rotation=45)\n",
    "plt.ylabel('Death Percentage')\n",
    "plt.xlabel('Continent')\n",
    "plt.show()"
   ]
  },
  {
   "cell_type": "markdown",
   "id": "4ca78a5e",
   "metadata": {},
   "source": [
    "Discussion: The analysis above shows that Africa has the highest death percentage and Oceania has the lowest death percentage"
   ]
  },
  {
   "cell_type": "markdown",
   "id": "7e270f00",
   "metadata": {},
   "source": [
    "# QUESTION 4: What is the average death percentage across countries?"
   ]
  },
  {
   "cell_type": "code",
   "execution_count": 7,
   "id": "2b97dddb",
   "metadata": {},
   "outputs": [
    {
     "name": "stdout",
     "output_type": "stream",
     "text": [
      "The average death percentage across countries is  1.4441248952577774\n"
     ]
    }
   ],
   "source": [
    "means = df.groupby('Country')['Death percentage'].sum().agg('mean')\n",
    "print('The average death percentage across countries is ', means)"
   ]
  },
  {
   "cell_type": "markdown",
   "id": "7f0793e3",
   "metadata": {},
   "source": [
    "Discussion: The average death percentage across all country is about 1.44%. Which means atleast every county has about 1.445 death percentage "
   ]
  },
  {
   "cell_type": "markdown",
   "id": "d7e201b8",
   "metadata": {},
   "source": [
    "# QUESTION 5: Is there a correlation between the population size and the total number of cases or deaths in a country?"
   ]
  },
  {
   "cell_type": "code",
   "execution_count": 8,
   "id": "ba51125b",
   "metadata": {},
   "outputs": [
    {
     "data": {
      "text/html": [
       "<div>\n",
       "<style scoped>\n",
       "    .dataframe tbody tr th:only-of-type {\n",
       "        vertical-align: middle;\n",
       "    }\n",
       "\n",
       "    .dataframe tbody tr th {\n",
       "        vertical-align: top;\n",
       "    }\n",
       "\n",
       "    .dataframe thead th {\n",
       "        text-align: right;\n",
       "    }\n",
       "</style>\n",
       "<table border=\"1\" class=\"dataframe\">\n",
       "  <thead>\n",
       "    <tr style=\"text-align: right;\">\n",
       "      <th></th>\n",
       "      <th>Population</th>\n",
       "      <th>Total Cases</th>\n",
       "      <th>Total Deaths</th>\n",
       "      <th>TotÂ Cases//1M pop</th>\n",
       "      <th>TotÂ Deaths/1M pop</th>\n",
       "      <th>Death percentage</th>\n",
       "    </tr>\n",
       "  </thead>\n",
       "  <tbody>\n",
       "    <tr>\n",
       "      <th>Population</th>\n",
       "      <td>1.000000</td>\n",
       "      <td>0.430687</td>\n",
       "      <td>0.428189</td>\n",
       "      <td>-0.130130</td>\n",
       "      <td>-0.066485</td>\n",
       "      <td>0.083387</td>\n",
       "    </tr>\n",
       "    <tr>\n",
       "      <th>Total Cases</th>\n",
       "      <td>0.430687</td>\n",
       "      <td>1.000000</td>\n",
       "      <td>0.915263</td>\n",
       "      <td>0.127890</td>\n",
       "      <td>0.216272</td>\n",
       "      <td>-0.032520</td>\n",
       "    </tr>\n",
       "    <tr>\n",
       "      <th>Total Deaths</th>\n",
       "      <td>0.428189</td>\n",
       "      <td>0.915263</td>\n",
       "      <td>1.000000</td>\n",
       "      <td>0.036561</td>\n",
       "      <td>0.289201</td>\n",
       "      <td>0.082616</td>\n",
       "    </tr>\n",
       "    <tr>\n",
       "      <th>TotÂ Cases//1M pop</th>\n",
       "      <td>-0.130130</td>\n",
       "      <td>0.127890</td>\n",
       "      <td>0.036561</td>\n",
       "      <td>1.000000</td>\n",
       "      <td>0.508630</td>\n",
       "      <td>-0.349986</td>\n",
       "    </tr>\n",
       "    <tr>\n",
       "      <th>TotÂ Deaths/1M pop</th>\n",
       "      <td>-0.066485</td>\n",
       "      <td>0.216272</td>\n",
       "      <td>0.289201</td>\n",
       "      <td>0.508630</td>\n",
       "      <td>1.000000</td>\n",
       "      <td>0.061088</td>\n",
       "    </tr>\n",
       "    <tr>\n",
       "      <th>Death percentage</th>\n",
       "      <td>0.083387</td>\n",
       "      <td>-0.032520</td>\n",
       "      <td>0.082616</td>\n",
       "      <td>-0.349986</td>\n",
       "      <td>0.061088</td>\n",
       "      <td>1.000000</td>\n",
       "    </tr>\n",
       "  </tbody>\n",
       "</table>\n",
       "</div>"
      ],
      "text/plain": [
       "                    Population  Total Cases  Total Deaths  TotÂ Cases//1M pop  \\\n",
       "Population            1.000000     0.430687      0.428189           -0.130130   \n",
       "Total Cases           0.430687     1.000000      0.915263            0.127890   \n",
       "Total Deaths          0.428189     0.915263      1.000000            0.036561   \n",
       "TotÂ Cases//1M pop   -0.130130     0.127890      0.036561            1.000000   \n",
       "TotÂ Deaths/1M pop   -0.066485     0.216272      0.289201            0.508630   \n",
       "Death percentage      0.083387    -0.032520      0.082616           -0.349986   \n",
       "\n",
       "                    TotÂ Deaths/1M pop  Death percentage  \n",
       "Population                   -0.066485          0.083387  \n",
       "Total Cases                   0.216272         -0.032520  \n",
       "Total Deaths                  0.289201          0.082616  \n",
       "TotÂ Cases//1M pop            0.508630         -0.349986  \n",
       "TotÂ Deaths/1M pop            1.000000          0.061088  \n",
       "Death percentage              0.061088          1.000000  "
      ]
     },
     "execution_count": 8,
     "metadata": {},
     "output_type": "execute_result"
    }
   ],
   "source": [
    "df.corr()"
   ]
  },
  {
   "cell_type": "markdown",
   "id": "0d08f312",
   "metadata": {},
   "source": [
    "Discussion: Rule for decision: the closer the value to positive 1, the stronger the positive correlation and the closer the value to negative 1, the stronger the negative correlation. since, the correlation value between population size to Total Cases and total death is 0.43 and 0.428 respectively. this shows that they have a significant correlations, which means if there is an increase in the population size, there would be quite amount of increase in the total cases and total death."
   ]
  },
  {
   "cell_type": "markdown",
   "id": "a01f0161",
   "metadata": {},
   "source": [
    "# QUESTION 6: Which countries managed to keep their death percentage low despite a high number of cases?"
   ]
  },
  {
   "cell_type": "code",
   "execution_count": 9,
   "id": "8cc58b67",
   "metadata": {},
   "outputs": [
    {
     "data": {
      "text/html": [
       "<div>\n",
       "<style scoped>\n",
       "    .dataframe tbody tr th:only-of-type {\n",
       "        vertical-align: middle;\n",
       "    }\n",
       "\n",
       "    .dataframe tbody tr th {\n",
       "        vertical-align: top;\n",
       "    }\n",
       "\n",
       "    .dataframe thead th {\n",
       "        text-align: right;\n",
       "    }\n",
       "</style>\n",
       "<table border=\"1\" class=\"dataframe\">\n",
       "  <thead>\n",
       "    <tr style=\"text-align: right;\">\n",
       "      <th></th>\n",
       "      <th>Death percentage</th>\n",
       "      <th>Total Cases</th>\n",
       "    </tr>\n",
       "    <tr>\n",
       "      <th>Country</th>\n",
       "      <th></th>\n",
       "      <th></th>\n",
       "    </tr>\n",
       "  </thead>\n",
       "  <tbody>\n",
       "    <tr>\n",
       "      <th>Brazil</th>\n",
       "      <td>2.200910</td>\n",
       "      <td>29999816</td>\n",
       "    </tr>\n",
       "    <tr>\n",
       "      <th>France</th>\n",
       "      <td>0.548145</td>\n",
       "      <td>25997852</td>\n",
       "    </tr>\n",
       "    <tr>\n",
       "      <th>Germany</th>\n",
       "      <td>0.603163</td>\n",
       "      <td>21646375</td>\n",
       "    </tr>\n",
       "    <tr>\n",
       "      <th>India</th>\n",
       "      <td>1.211712</td>\n",
       "      <td>43029044</td>\n",
       "    </tr>\n",
       "    <tr>\n",
       "      <th>United States of America</th>\n",
       "      <td>1.231957</td>\n",
       "      <td>81839052</td>\n",
       "    </tr>\n",
       "  </tbody>\n",
       "</table>\n",
       "</div>"
      ],
      "text/plain": [
       "                          Death percentage  Total Cases\n",
       "Country                                                \n",
       "Brazil                            2.200910     29999816\n",
       "France                            0.548145     25997852\n",
       "Germany                           0.603163     21646375\n",
       "India                             1.211712     43029044\n",
       "United States of America          1.231957     81839052"
      ]
     },
     "execution_count": 9,
     "metadata": {},
     "output_type": "execute_result"
    }
   ],
   "source": [
    "low_percent = df.sort_values(by = 'Total Cases', ascending=False).head()\n",
    "low_percent.groupby('Country')['Death percentage', 'Total Cases'].sum()"
   ]
  },
  {
   "cell_type": "markdown",
   "id": "c4d8c60a",
   "metadata": {},
   "source": [
    "Discussion: The analysis above shows the five countries with the highest total cases but with lower death percentage.United States of America hass the higest total number of cases and manage to have one of the lowest death percentage among all the countries."
   ]
  },
  {
   "cell_type": "markdown",
   "id": "f2a638d3",
   "metadata": {},
   "source": [
    "# QUESTION 7: Based on the death percentage, which countries should be considered for further analysis regarding their healthcare response?"
   ]
  },
  {
   "cell_type": "code",
   "execution_count": 10,
   "id": "5130be77",
   "metadata": {},
   "outputs": [
    {
     "data": {
      "text/html": [
       "<div>\n",
       "<style scoped>\n",
       "    .dataframe tbody tr th:only-of-type {\n",
       "        vertical-align: middle;\n",
       "    }\n",
       "\n",
       "    .dataframe tbody tr th {\n",
       "        vertical-align: top;\n",
       "    }\n",
       "\n",
       "    .dataframe thead th {\n",
       "        text-align: right;\n",
       "    }\n",
       "</style>\n",
       "<table border=\"1\" class=\"dataframe\">\n",
       "  <thead>\n",
       "    <tr style=\"text-align: right;\">\n",
       "      <th></th>\n",
       "      <th>Country</th>\n",
       "      <th>Population</th>\n",
       "      <th>Total Cases</th>\n",
       "      <th>Death percentage</th>\n",
       "    </tr>\n",
       "  </thead>\n",
       "  <tbody>\n",
       "    <tr>\n",
       "      <th>222</th>\n",
       "      <td>Yemen</td>\n",
       "      <td>30975258</td>\n",
       "      <td>11806</td>\n",
       "      <td>18.151787</td>\n",
       "    </tr>\n",
       "    <tr>\n",
       "      <th>221</th>\n",
       "      <td>Western Sahara</td>\n",
       "      <td>623031</td>\n",
       "      <td>10</td>\n",
       "      <td>10.000000</td>\n",
       "    </tr>\n",
       "    <tr>\n",
       "      <th>193</th>\n",
       "      <td>Sudan</td>\n",
       "      <td>45640385</td>\n",
       "      <td>61955</td>\n",
       "      <td>7.920265</td>\n",
       "    </tr>\n",
       "    <tr>\n",
       "      <th>158</th>\n",
       "      <td>Peru</td>\n",
       "      <td>33775745</td>\n",
       "      <td>3548559</td>\n",
       "      <td>5.983499</td>\n",
       "    </tr>\n",
       "    <tr>\n",
       "      <th>130</th>\n",
       "      <td>Mexico</td>\n",
       "      <td>131303955</td>\n",
       "      <td>5665376</td>\n",
       "      <td>5.705041</td>\n",
       "    </tr>\n",
       "  </tbody>\n",
       "</table>\n",
       "</div>"
      ],
      "text/plain": [
       "            Country  Population  Total Cases  Death percentage\n",
       "222           Yemen    30975258        11806         18.151787\n",
       "221  Western Sahara      623031           10         10.000000\n",
       "193           Sudan    45640385        61955          7.920265\n",
       "158            Peru    33775745      3548559          5.983499\n",
       "130          Mexico   131303955      5665376          5.705041"
      ]
     },
     "execution_count": 10,
     "metadata": {},
     "output_type": "execute_result"
    }
   ],
   "source": [
    "df.nlargest(5, 'Death percentage')[['Country', 'Population','Total Cases','Death percentage']]"
   ]
  },
  {
   "cell_type": "markdown",
   "id": "4d2dc1ee",
   "metadata": {},
   "source": [
    "Discusion: Considering the above analysis, we can see that Yemen has the total population size of approximately 30.98millions, total cases of the virus was 11.8 thousands cases and have 18.2% of death, conparing this to some other countries with bigger total cases but manage to have lower death rate. it is safe to say that Yemen need to increase heathcare response in the country."
   ]
  },
  {
   "cell_type": "code",
   "execution_count": null,
   "id": "678ad713",
   "metadata": {},
   "outputs": [],
   "source": []
  }
 ],
 "metadata": {
  "kernelspec": {
   "display_name": "Python 3 (ipykernel)",
   "language": "python",
   "name": "python3"
  },
  "language_info": {
   "codemirror_mode": {
    "name": "ipython",
    "version": 3
   },
   "file_extension": ".py",
   "mimetype": "text/x-python",
   "name": "python",
   "nbconvert_exporter": "python",
   "pygments_lexer": "ipython3",
   "version": "3.9.12"
  }
 },
 "nbformat": 4,
 "nbformat_minor": 5
}
